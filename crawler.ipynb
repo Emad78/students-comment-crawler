{
 "cells": [
  {
   "cell_type": "code",
   "execution_count": null,
   "metadata": {},
   "outputs": [],
   "source": [
    "import pandas as pd\n",
    "from selenium import webdriver\n",
    "from selenium.webdriver.common.by import By\n",
    "from selenium.webdriver.common.action_chains import ActionChains\n",
    "from time import sleep\n",
    "import re"
   ]
  },
  {
   "cell_type": "code",
   "execution_count": null,
   "metadata": {},
   "outputs": [],
   "source": [
    "class Crawler_Gozine2:\n",
    "    def __init__(self, url):\n",
    "        self.url = url\n",
    "        self.mainDriver = webdriver.Chrome()\n",
    "        self.data = {'text':[]}\n",
    "    \n",
    "    def get_comment(self, index):\n",
    "        element = self.mainDriver.find_element(By.XPATH, f'//*[@id=\"pnlOpinion\"]/li[{index}]/div/div[2]')\n",
    "        return element.text\n",
    "    \n",
    "    def run(self, max=10000):\n",
    "        self.mainDriver.get(self.url)\n",
    "        i = 1\n",
    "        while True:\n",
    "            try:\n",
    "                if i > max:\n",
    "                    break\n",
    "                if i % 30 == 0:\n",
    "                    self.mainDriver.execute_script(\"window.scrollTo(0,document.body.scrollHeight)\")\n",
    "                comment = self.get_comment(i)\n",
    "                self.data['text'].append(comment)\n",
    "                i += 1\n",
    "            except:\n",
    "                break\n",
    "        self.mainDriver.close()\n",
    "        return pd.DataFrame(self.data)     \n",
    "        "
   ]
  },
  {
   "cell_type": "code",
   "execution_count": null,
   "metadata": {},
   "outputs": [],
   "source": [
    "url = 'https://article.gozine2.ir/view/46872/%D9%86%D8%B8%D8%B1%D8%B3%D9%86%D8%AC%DB%8C-%D8%A2%D8%B2%D9%85%D9%88%D9%86-%D9%87%D8%A7'\n",
    "crawler = Crawler_Gozine2(url)\n",
    "data = crawler.run()\n",
    "data.to_csv(\"Gozine2_Azmoon.csv\", index=False)"
   ]
  },
  {
   "cell_type": "code",
   "execution_count": null,
   "metadata": {},
   "outputs": [],
   "source": [
    "class Crawler_MehroMah:\n",
    "    def __init__(self):\n",
    "        self.mainDriver = webdriver.Chrome()\n",
    "        self.data = {'text' : []}\n",
    "        \n",
    "    def get_link(self, index):\n",
    "        index = index*8+1\n",
    "        element = self.mainDriver.find_element(By.XPATH, f'//*[@id=\"dle-content\"]/div[{index}]/a')\n",
    "        return element.get_attribute('href')\n",
    "\n",
    "    def get_comments_number(self, index):\n",
    "        index = index*8+3\n",
    "        element = self.mainDriver.find_element(By.XPATH, f'//*[@id=\"dle-content\"]/div[{index}]/div[4]/div/h3')\n",
    "        number = int(re.findall(r'\\d+', element.text)[0])\n",
    "        return number"
   ]
  }
 ],
 "metadata": {
  "kernelspec": {
   "display_name": "Python 3",
   "language": "python",
   "name": "python3"
  },
  "language_info": {
   "name": "python",
   "version": "3.10.5 (tags/v3.10.5:f377153, Jun  6 2022, 16:14:13) [MSC v.1929 64 bit (AMD64)]"
  },
  "orig_nbformat": 4,
  "vscode": {
   "interpreter": {
    "hash": "876db7d3f8682b7e4c5477e5f1e2dc2bd1b19fe05d9aabd59218369070754b39"
   }
  }
 },
 "nbformat": 4,
 "nbformat_minor": 2
}
